{
 "cells": [
  {
   "cell_type": "code",
   "execution_count": 8,
   "metadata": {
    "collapsed": true
   },
   "outputs": [],
   "source": [
    "import json, ast\n",
    "# from pprint import pprint\n",
    "\n",
    "data = ast.literal_eval(json.dumps(json.load(open('key.json')))) \n",
    "\n",
    "# pprint(data)\n",
    "#print data['consumer_key']"
   ]
  },
  {
   "cell_type": "code",
   "execution_count": 9,
   "metadata": {},
   "outputs": [
    {
     "name": "stdout",
     "output_type": "stream",
     "text": [
      "User(follow_request_sent=False, has_extended_profile=False, profile_use_background_image=True, _json={u'follow_request_sent': False, u'has_extended_profile': False, u'profile_use_background_image': True, u'default_profile_image': False, u'id': 313353799, u'profile_background_image_url_https': u'https://abs.twimg.com/images/themes/theme1/bg.png', u'verified': False, u'translator_type': u'none', u'profile_text_color': u'333333', u'profile_image_url_https': u'https://pbs.twimg.com/profile_images/699120456503160832/gF5la9A6_normal.jpg', u'profile_sidebar_fill_color': u'DDEEF6', u'entities': {u'description': {u'urls': []}}, u'followers_count': 267, u'profile_sidebar_border_color': u'C0DEED', u'id_str': u'313353799', u'profile_background_color': u'C0DEED', u'listed_count': 1, u'status': {u'contributors': None, u'truncated': False, u'text': u\"You need @trello! It's like three cups of coffee for your productivity. (And it's free!) https://t.co/bP4yiROHe8\", u'is_quote_status': False, u'in_reply_to_status_id': None, u'id': 931250919756275712, u'favorite_count': 0, u'source': u'<a href=\"http://twitter.com\" rel=\"nofollow\">Twitter Web Client</a>', u'retweeted': False, u'coordinates': None, u'entities': {u'symbols': [], u'user_mentions': [{u'id': 360831528, u'indices': [9, 16], u'id_str': u'360831528', u'screen_name': u'trello', u'name': u'Trello'}], u'hashtags': [], u'urls': [{u'url': u'https://t.co/bP4yiROHe8', u'indices': [89, 112], u'expanded_url': u'https://trello.com/ajinkyapuar/recommend', u'display_url': u'trello.com/ajinkyapuar/re\\u2026'}]}, u'in_reply_to_screen_name': None, u'in_reply_to_user_id': None, u'retweet_count': 0, u'id_str': u'931250919756275712', u'favorited': False, u'geo': None, u'in_reply_to_user_id_str': None, u'possibly_sensitive': False, u'lang': u'en', u'created_at': u'Thu Nov 16 20:01:35 +0000 2017', u'in_reply_to_status_id_str': None, u'place': None}, u'is_translation_enabled': False, u'utc_offset': 19800, u'statuses_count': 189, u'description': u'', u'friends_count': 1594, u'location': u'Pune, India', u'profile_link_color': u'1DA1F2', u'profile_image_url': u'http://pbs.twimg.com/profile_images/699120456503160832/gF5la9A6_normal.jpg', u'following': False, u'geo_enabled': False, u'profile_background_image_url': u'http://abs.twimg.com/images/themes/theme1/bg.png', u'screen_name': u'ajinkyapuar', u'lang': u'en', u'profile_background_tile': False, u'favourites_count': 33, u'name': u'Ajinkya Puar', u'notifications': False, u'url': None, u'created_at': u'Wed Jun 08 14:42:11 +0000 2011', u'contributors_enabled': False, u'time_zone': u'New Delhi', u'protected': True, u'default_profile': True, u'is_translator': False}, time_zone=u'New Delhi', id=313353799, description=u'', _api=<tweepy.api.API object at 0x1099f7c50>, verified=False, profile_text_color=u'333333', profile_image_url_https=u'https://pbs.twimg.com/profile_images/699120456503160832/gF5la9A6_normal.jpg', profile_sidebar_fill_color=u'DDEEF6', is_translator=False, geo_enabled=False, entities={u'description': {u'urls': []}}, followers_count=267, protected=True, id_str=u'313353799', default_profile_image=False, listed_count=1, status=Status(contributors=None, truncated=False, text=u\"You need @trello! It's like three cups of coffee for your productivity. (And it's free!) https://t.co/bP4yiROHe8\", is_quote_status=False, in_reply_to_status_id=None, id=931250919756275712, favorite_count=0, _api=<tweepy.api.API object at 0x1099f7c50>, source=u'Twitter Web Client', _json={u'contributors': None, u'truncated': False, u'text': u\"You need @trello! It's like three cups of coffee for your productivity. (And it's free!) https://t.co/bP4yiROHe8\", u'is_quote_status': False, u'in_reply_to_status_id': None, u'id': 931250919756275712, u'favorite_count': 0, u'source': u'<a href=\"http://twitter.com\" rel=\"nofollow\">Twitter Web Client</a>', u'retweeted': False, u'coordinates': None, u'entities': {u'symbols': [], u'user_mentions': [{u'id': 360831528, u'indices': [9, 16], u'id_str': u'360831528', u'screen_name': u'trello', u'name': u'Trello'}], u'hashtags': [], u'urls': [{u'url': u'https://t.co/bP4yiROHe8', u'indices': [89, 112], u'expanded_url': u'https://trello.com/ajinkyapuar/recommend', u'display_url': u'trello.com/ajinkyapuar/re\\u2026'}]}, u'in_reply_to_screen_name': None, u'in_reply_to_user_id': None, u'retweet_count': 0, u'id_str': u'931250919756275712', u'favorited': False, u'geo': None, u'in_reply_to_user_id_str': None, u'possibly_sensitive': False, u'lang': u'en', u'created_at': u'Thu Nov 16 20:01:35 +0000 2017', u'in_reply_to_status_id_str': None, u'place': None}, coordinates=None, entities={u'symbols': [], u'user_mentions': [{u'id': 360831528, u'indices': [9, 16], u'id_str': u'360831528', u'screen_name': u'trello', u'name': u'Trello'}], u'hashtags': [], u'urls': [{u'url': u'https://t.co/bP4yiROHe8', u'indices': [89, 112], u'expanded_url': u'https://trello.com/ajinkyapuar/recommend', u'display_url': u'trello.com/ajinkyapuar/re\\u2026'}]}, in_reply_to_screen_name=None, id_str=u'931250919756275712', retweet_count=0, in_reply_to_user_id=None, favorited=False, source_url=u'http://twitter.com', geo=None, in_reply_to_user_id_str=None, possibly_sensitive=False, lang=u'en', created_at=datetime.datetime(2017, 11, 16, 20, 1, 35), in_reply_to_status_id_str=None, place=None, retweeted=False), lang=u'en', utc_offset=19800, statuses_count=189, profile_background_color=u'C0DEED', friends_count=1594, profile_link_color=u'1DA1F2', profile_image_url=u'http://pbs.twimg.com/profile_images/699120456503160832/gF5la9A6_normal.jpg', notifications=False, default_profile=True, profile_background_image_url_https=u'https://abs.twimg.com/images/themes/theme1/bg.png', profile_background_image_url=u'http://abs.twimg.com/images/themes/theme1/bg.png', name=u'Ajinkya Puar', is_translation_enabled=False, profile_background_tile=False, favourites_count=33, screen_name=u'ajinkyapuar', url=None, created_at=datetime.datetime(2011, 6, 8, 14, 42, 11), contributors_enabled=False, location=u'Pune, India', profile_sidebar_border_color=u'C0DEED', translator_type=u'none', following=False)\n"
     ]
    }
   ],
   "source": [
    "import tweepy \n",
    "\n",
    "auth = tweepy.OAuthHandler(data['consumer_key'], data['consumer_secret'])\n",
    "auth.set_access_token(data['access_token'], data['access_secret']) \n",
    "\n",
    "api = tweepy.API(auth)\n",
    "print api.verify_credentials()"
   ]
  },
  {
   "cell_type": "code",
   "execution_count": 12,
   "metadata": {
    "collapsed": false
   },
   "outputs": [
    {
     "name": "stdout",
     "output_type": "stream",
     "text": [
      "182\n"
     ]
    }
   ],
   "source": [
    "# print api.user_timeline(screen_name='chrisalbon',count=200)\n",
    "tweets = api.user_timeline(screen_name='chrisalbon', count=200, include_rts=False, excludereplies=True)\n",
    "print len(tweets)"
   ]
  },
  {
   "cell_type": "code",
   "execution_count": 13,
   "metadata": {},
   "outputs": [
    {
     "name": "stdout",
     "output_type": "stream",
     "text": [
      "930270789701591041\n"
     ]
    }
   ],
   "source": [
    "last_id = tweets[-1].id\n",
    "print last_id"
   ]
  },
  {
   "cell_type": "code",
   "execution_count": 16,
   "metadata": {},
   "outputs": [
    {
     "name": "stdout",
     "output_type": "stream",
     "text": [
      "1335\n"
     ]
    }
   ],
   "source": [
    "while (True):\n",
    "    more_tweets = api.user_timeline(screen_name='chrisalbon',\n",
    "                                    count=200,\n",
    "                                    include_rts=False,\n",
    "                                    exclude_replies=True,\n",
    "                                    max_id=last_id - 1)\n",
    "    if (len(more_tweets) == 0):\n",
    "        break\n",
    "    else:\n",
    "        last_id = more_tweets[-1].id - 1\n",
    "        tweets = tweets + more_tweets\n",
    "    \n",
    "print len(tweets)"
   ]
  },
  {
   "cell_type": "code",
   "execution_count": 17,
   "metadata": {},
   "outputs": [
    {
     "name": "stdout",
     "output_type": "stream",
     "text": [
      "88\n"
     ]
    }
   ],
   "source": [
    "ml_card_tweets = [j for j in tweets if 'machinelearningflashcards' in j.text]\n",
    "\n",
    "print len(ml_card_tweets)"
   ]
  },
  {
   "cell_type": "code",
   "execution_count": 18,
   "metadata": {},
   "outputs": [
    {
     "name": "stdout",
     "output_type": "stream",
     "text": [
      "79\nURL's collected\n"
     ]
    }
   ],
   "source": [
    "media_files = set()\n",
    "\n",
    "for mct in ml_card_tweets:\n",
    "    media = mct.entities.get('media', [])\n",
    "    if len(media) > 0 and media[0]['type'] == 'photo':\n",
    "        media_files.add(media[0]['media_url'])\n",
    "        \n",
    "print len(media_files)"
   ]
  },
  {
   "cell_type": "code",
   "execution_count": 21,
   "metadata": {},
   "outputs": [
    {
     "name": "stdout",
     "output_type": "stream",
     "text": [
      "Done\n"
     ]
    }
   ],
   "source": [
    "import os, wget\n",
    "\n",
    "if not os.path.exists('cards'):\n",
    "    os.mkdir('cards')\n",
    "\n",
    "for file in media_files:\n",
    "    wget.download(file, out='cards')\n",
    "\n",
    "print \"Done\""
   ]
  },
  {
   "cell_type": "code",
   "execution_count": null,
   "metadata": {},
   "outputs": [],
   "source": [
    ""
   ]
  }
 ],
 "metadata": {
  "kernelspec": {
   "display_name": "Python 2",
   "language": "python",
   "name": "python2"
  },
  "language_info": {
   "codemirror_mode": {
    "name": "ipython",
    "version": 2.0
   },
   "file_extension": ".py",
   "mimetype": "text/x-python",
   "name": "python",
   "nbconvert_exporter": "python",
   "pygments_lexer": "ipython2",
   "version": "2.7.6"
  }
 },
 "nbformat": 4,
 "nbformat_minor": 0
}